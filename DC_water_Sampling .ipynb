{
 "cells": [
  {
   "cell_type": "code",
   "execution_count": 1,
   "metadata": {},
   "outputs": [
    {
     "name": "stderr",
     "output_type": "stream",
     "text": [
      "C:\\Users\\chunweil\\AppData\\Local\\Continuum\\Anaconda2\\lib\\site-packages\\sklearn\\cross_validation.py:44: DeprecationWarning: This module was deprecated in version 0.18 in favor of the model_selection module into which all the refactored classes and functions are moved. Also note that the interface of the new CV iterators are different from that of this module. This module will be removed in 0.20.\n",
      "  \"This module will be removed in 0.20.\", DeprecationWarning)\n"
     ]
    }
   ],
   "source": [
    "from sklearn.linear_model import LogisticRegression\n",
    "from sklearn.model_selection import train_test_split\n",
    "from sklearn.cross_validation import KFold\n",
    "from sklearn.ensemble import RandomForestClassifier\n",
    "from sklearn.neighbors import KNeighborsClassifier as knn\n",
    "from sklearn.naive_bayes import GaussianNB as GB\n",
    "from sklearn.svm import SVC\n",
    "from sklearn.neural_network import MLPClassifier\n",
    "from sklearn.metrics import precision_score, \\\n",
    "    recall_score, confusion_matrix, classification_report, \\\n",
    "    accuracy_score, f1_score\n",
    "\n",
    "from sklearn.preprocessing import StandardScaler\n",
    "import pandas as pd\n",
    "import numpy as np\n",
    "import matplotlib as mpl\n",
    "import matplotlib.pyplot as plt\n",
    "import seaborn as sns\n",
    "%matplotlib inline"
   ]
  },
  {
   "cell_type": "code",
   "execution_count": 2,
   "metadata": {},
   "outputs": [
    {
     "data": {
      "text/plain": [
       "Index([u'Unnamed: 0', u'Unnamed: 0.1', u'GLOBALID', u'Year', u'BinomBreak',\n",
       "       u'TMIN', u'SnowFall', u'Prcp', u'FrzIndex', u'DIAMTR', u'AGE15',\n",
       "       u'FrostAct', u'CorCon', u'CorSteel', u'ClayPrct', u'HouseTot', u'Pop',\n",
       "       u'Road', u'MATRL_CI', u'MATRL_Concrete', u'MATRL_DI', u'MATRL_Oth',\n",
       "       u'MATRL_PVC', u'MATRL_Steel', u'MATRL_Unk', u'LANDUSE_0',\n",
       "       u'LANDUSE_Commercial/Institutio0l', u'LANDUSE_Public',\n",
       "       u'LANDUSE_Residential', u'LANDUSE_Transport', u'LANDUSE_Water',\n",
       "       u'SoilType_0', u'SoilType_coarse-loamy', u'SoilType_fine',\n",
       "       u'SoilType_fine-loamy', u'SoilType_fine-silty',\n",
       "       u'SoilType_loamy-skeletal', u'SoilType_sandy',\n",
       "       u'SoilType_sandy-skeletal', u'SoilType_unused', u'BusTraffic_0',\n",
       "       u'BusTraffic_BusRestrict', u'BusTraffic_BusTruckRestrict',\n",
       "       u'BusTraffic_PrimaryRoad', u'BusTraffic_TruckRestrict'],\n",
       "      dtype='object')"
      ]
     },
     "execution_count": 2,
     "metadata": {},
     "output_type": "execute_result"
    }
   ],
   "source": [
    "import pandas as pd\n",
    "df_dc= pd.read_csv(\"C:/Users/chunweil/Cleaned_DCWater.csv\")\n",
    "df_dc.columns"
   ]
  },
  {
   "cell_type": "code",
   "execution_count": 4,
   "metadata": {
    "collapsed": true
   },
   "outputs": [],
   "source": [
    "# Number of data points in the minority class\n",
    "number_of_Break=len(df_dc[df_dc.BinomBreak!=0])\n",
    "break_indices=np.array(df_dc[df_dc.BinomBreak!=0].index)\n",
    "\n",
    "# picking the indices of the noraml pipe\n",
    "normal_indices=df_dc[df_dc.BinomBreak==0].index"
   ]
  },
  {
   "cell_type": "code",
   "execution_count": null,
   "metadata": {
    "collapsed": true
   },
   "outputs": [],
   "source": [
    "# out of the indices we picked, randomly select \"X\" number\n",
    "#(number_of_wirebreak) specify desired ratio here!!!!!\n",
    "\n",
    "random_normal_indices=np.random.choice(normal_indices,number_of_Break,replace=True)\n",
    "random_normal_indices=np.array(random_normal_indices)\n",
    "\n",
    "# Appending the 2 indices\n",
    "under_sample_indices=np.concatenate([break_indices,random_normal_indices])\n",
    "\n",
    "# Undersamping dataset\n",
    "under_sample_dataset=df_dc.iloc[under_sample_indices,:]\n",
    "under_sample_dataset.to_csv(\"undersample_DCwater.csv\")"
   ]
  }
 ],
 "metadata": {
  "kernelspec": {
   "display_name": "Python 2",
   "language": "python",
   "name": "python2"
  },
  "language_info": {
   "codemirror_mode": {
    "name": "ipython",
    "version": 2
   },
   "file_extension": ".py",
   "mimetype": "text/x-python",
   "name": "python",
   "nbconvert_exporter": "python",
   "pygments_lexer": "ipython2",
   "version": "2.7.13"
  }
 },
 "nbformat": 4,
 "nbformat_minor": 2
}
