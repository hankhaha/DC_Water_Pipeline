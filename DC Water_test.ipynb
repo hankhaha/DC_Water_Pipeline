{
 "cells": [
  {
   "cell_type": "code",
   "execution_count": 1,
   "metadata": {},
   "outputs": [
    {
     "name": "stderr",
     "output_type": "stream",
     "text": [
      "C:\\Users\\chunweil\\AppData\\Local\\Continuum\\Anaconda2\\lib\\site-packages\\sklearn\\cross_validation.py:44: DeprecationWarning: This module was deprecated in version 0.18 in favor of the model_selection module into which all the refactored classes and functions are moved. Also note that the interface of the new CV iterators are different from that of this module. This module will be removed in 0.20.\n",
      "  \"This module will be removed in 0.20.\", DeprecationWarning)\n"
     ]
    }
   ],
   "source": [
    "from sklearn.linear_model import LogisticRegression\n",
    "from sklearn.model_selection import train_test_split\n",
    "from sklearn.cross_validation import KFold\n",
    "from sklearn.ensemble import RandomForestClassifier\n",
    "from sklearn.neighbors import KNeighborsClassifier as knn\n",
    "from sklearn.naive_bayes import GaussianNB as GB\n",
    "from sklearn.svm import SVC\n",
    "from sklearn.neural_network import MLPClassifier\n",
    "from sklearn.metrics import precision_score, \\\n",
    "    recall_score, confusion_matrix, classification_report, \\\n",
    "    accuracy_score, f1_score\n",
    "\n",
    "from sklearn.preprocessing import StandardScaler\n",
    "import pandas as pd\n",
    "import numpy as np\n",
    "import matplotlib as mpl\n",
    "import matplotlib.pyplot as plt\n",
    "import seaborn as sns\n",
    "%matplotlib inline"
   ]
  },
  {
   "cell_type": "code",
   "execution_count": 22,
   "metadata": {},
   "outputs": [
    {
     "data": {
      "text/html": [
       "<div>\n",
       "<style>\n",
       "    .dataframe thead tr:only-child th {\n",
       "        text-align: right;\n",
       "    }\n",
       "\n",
       "    .dataframe thead th {\n",
       "        text-align: left;\n",
       "    }\n",
       "\n",
       "    .dataframe tbody tr th {\n",
       "        vertical-align: top;\n",
       "    }\n",
       "</style>\n",
       "<table border=\"1\" class=\"dataframe\">\n",
       "  <thead>\n",
       "    <tr style=\"text-align: right;\">\n",
       "      <th></th>\n",
       "      <th>Year</th>\n",
       "      <th>BinomBreak</th>\n",
       "      <th>FrzIndex</th>\n",
       "      <th>DIAMTR</th>\n",
       "      <th>AGE15</th>\n",
       "      <th>FrostAct</th>\n",
       "      <th>Pop</th>\n",
       "      <th>Road</th>\n",
       "      <th>MATRL_CI</th>\n",
       "      <th>LANDUSE_Transport</th>\n",
       "    </tr>\n",
       "  </thead>\n",
       "  <tbody>\n",
       "    <tr>\n",
       "      <th>0</th>\n",
       "      <td>1</td>\n",
       "      <td>0</td>\n",
       "      <td>73</td>\n",
       "      <td>20.0</td>\n",
       "      <td>81</td>\n",
       "      <td>3</td>\n",
       "      <td>434</td>\n",
       "      <td>0</td>\n",
       "      <td>1</td>\n",
       "      <td>0</td>\n",
       "    </tr>\n",
       "    <tr>\n",
       "      <th>1</th>\n",
       "      <td>1</td>\n",
       "      <td>0</td>\n",
       "      <td>73</td>\n",
       "      <td>16.0</td>\n",
       "      <td>66</td>\n",
       "      <td>2</td>\n",
       "      <td>7</td>\n",
       "      <td>0</td>\n",
       "      <td>1</td>\n",
       "      <td>0</td>\n",
       "    </tr>\n",
       "    <tr>\n",
       "      <th>2</th>\n",
       "      <td>1</td>\n",
       "      <td>0</td>\n",
       "      <td>73</td>\n",
       "      <td>16.0</td>\n",
       "      <td>66</td>\n",
       "      <td>2</td>\n",
       "      <td>7</td>\n",
       "      <td>0</td>\n",
       "      <td>1</td>\n",
       "      <td>0</td>\n",
       "    </tr>\n",
       "    <tr>\n",
       "      <th>3</th>\n",
       "      <td>1</td>\n",
       "      <td>0</td>\n",
       "      <td>73</td>\n",
       "      <td>16.0</td>\n",
       "      <td>35</td>\n",
       "      <td>0</td>\n",
       "      <td>0</td>\n",
       "      <td>0</td>\n",
       "      <td>0</td>\n",
       "      <td>0</td>\n",
       "    </tr>\n",
       "    <tr>\n",
       "      <th>4</th>\n",
       "      <td>1</td>\n",
       "      <td>0</td>\n",
       "      <td>73</td>\n",
       "      <td>16.0</td>\n",
       "      <td>35</td>\n",
       "      <td>0</td>\n",
       "      <td>0</td>\n",
       "      <td>0</td>\n",
       "      <td>0</td>\n",
       "      <td>0</td>\n",
       "    </tr>\n",
       "    <tr>\n",
       "      <th>5</th>\n",
       "      <td>1</td>\n",
       "      <td>0</td>\n",
       "      <td>73</td>\n",
       "      <td>24.0</td>\n",
       "      <td>69</td>\n",
       "      <td>0</td>\n",
       "      <td>223</td>\n",
       "      <td>0</td>\n",
       "      <td>0</td>\n",
       "      <td>0</td>\n",
       "    </tr>\n",
       "  </tbody>\n",
       "</table>\n",
       "</div>"
      ],
      "text/plain": [
       "   Year  BinomBreak  FrzIndex  DIAMTR  AGE15  FrostAct  Pop  Road  MATRL_CI  \\\n",
       "0     1           0        73    20.0     81         3  434     0         1   \n",
       "1     1           0        73    16.0     66         2    7     0         1   \n",
       "2     1           0        73    16.0     66         2    7     0         1   \n",
       "3     1           0        73    16.0     35         0    0     0         0   \n",
       "4     1           0        73    16.0     35         0    0     0         0   \n",
       "5     1           0        73    24.0     69         0  223     0         0   \n",
       "\n",
       "   LANDUSE_Transport  \n",
       "0                  0  \n",
       "1                  0  \n",
       "2                  0  \n",
       "3                  0  \n",
       "4                  0  \n",
       "5                  0  "
      ]
     },
     "execution_count": 22,
     "metadata": {},
     "output_type": "execute_result"
    }
   ],
   "source": [
    "# Import Data\n",
    "import pandas as pd\n",
    "df_dc= pd.read_csv(\"C:/Users/chunweil/Cleaned_DCWater.csv\")\n",
    "Important_feature=[\"Year\",'BinomBreak','FrzIndex','DIAMTR','AGE15','FrostAct','Pop','Road','MATRL_CI','LANDUSE_Transport']\n",
    "dc_water=df_dc.loc[:,Important_feature]\n",
    "dc_water.head(6)"
   ]
  },
  {
   "cell_type": "code",
   "execution_count": 28,
   "metadata": {},
   "outputs": [
    {
     "name": "stdout",
     "output_type": "stream",
     "text": [
      "               Year    BinomBreak      FrzIndex        DIAMTR         AGE15  \\\n",
      "count  37317.000000  37317.000000  37317.000000  37317.000000  37317.000000   \n",
      "mean      53.000000      0.004984     59.285714     24.973082     69.063965   \n",
      "std        2.000027      0.070425     13.853646     10.783084     35.086444   \n",
      "min       50.000000      0.000000     30.000000     16.000000      0.000000   \n",
      "25%       51.000000      0.000000     56.000000     16.000000     49.000000   \n",
      "50%       53.000000      0.000000     58.000000     20.000000     68.000000   \n",
      "75%       55.000000      0.000000     72.000000     30.000000     90.000000   \n",
      "max       56.000000      1.000000     75.000000     84.000000    156.000000   \n",
      "\n",
      "           FrostAct           Pop          Road      MATRL_CI  \\\n",
      "count  37317.000000  37317.000000  37317.000000  37317.000000   \n",
      "mean       1.139561    211.563121      1.081035      0.619208   \n",
      "std        1.216899    387.450183      1.427369      0.485588   \n",
      "min        0.000000      0.000000      0.000000      0.000000   \n",
      "25%        0.000000      0.000000      0.000000      0.000000   \n",
      "50%        1.000000     71.000000      0.000000      1.000000   \n",
      "75%        2.000000    235.000000      3.000000      1.000000   \n",
      "max        3.000000   5726.000000      3.000000      1.000000   \n",
      "\n",
      "       LANDUSE_Transport  \n",
      "count       37317.000000  \n",
      "mean            0.872632  \n",
      "std             0.333389  \n",
      "min             0.000000  \n",
      "25%             1.000000  \n",
      "50%             1.000000  \n",
      "75%             1.000000  \n",
      "max             1.000000  \n"
     ]
    }
   ],
   "source": [
    "test_ML=dc_water.loc[dc_water[\"Year\"]>=50,:]\n",
    "print(test_ML.describe())\n"
   ]
  },
  {
   "cell_type": "code",
   "execution_count": 29,
   "metadata": {},
   "outputs": [
    {
     "name": "stdout",
     "output_type": "stream",
     "text": [
      "37131\n",
      "186\n"
     ]
    },
    {
     "data": {
      "text/plain": [
       "count    186.000000\n",
       "mean      78.086022\n",
       "std       34.346928\n",
       "min        0.000000\n",
       "25%       64.000000\n",
       "50%       74.000000\n",
       "75%       94.750000\n",
       "max      155.000000\n",
       "Name: AGE15, dtype: float64"
      ]
     },
     "execution_count": 29,
     "metadata": {},
     "output_type": "execute_result"
    },
    {
     "data": {
      "image/png": "[encoded data removed]",
      "text/plain": [
       "<matplotlib.figure.Figure at 0x3cc20b0>"
      ]
     },
     "metadata": {},
     "output_type": "display_data"
    }
   ],
   "source": [
    "# count the number of instances in \"Non-Break\" and \" Break\" class respectively\n",
    "from collections import Counter\n",
    "non_break=Counter(test_ML[\"BinomBreak\"])[0]\n",
    "break1=Counter(test_ML[\"BinomBreak\"])[1]\n",
    "print(non_break)\n",
    "print(break1)\n",
    "break1/non_break\n",
    "sns.countplot(test_ML[\"BinomBreak\"])\n",
    "\n",
    "# check the average of AGE15 by \"BinomBreak\"\n",
    "test_ML.AGE15[dc_water.BinomBreak==1].describe()"
   ]
  },
  {
   "cell_type": "code",
   "execution_count": 32,
   "metadata": {},
   "outputs": [
    {
     "name": "stdout",
     "output_type": "stream",
     "text": [
      "<class 'pandas.core.frame.DataFrame'>\n",
      "Int64Index: 37317 entries, 261219 to 298535\n",
      "Data columns (total 9 columns):\n",
      "BinomBreak           37317 non-null int64\n",
      "FrzIndex             37317 non-null int64\n",
      "DIAMTR               37317 non-null float64\n",
      "AGE15                37317 non-null int64\n",
      "FrostAct             37317 non-null int64\n",
      "Pop                  37317 non-null int64\n",
      "Road                 37317 non-null int64\n",
      "MATRL_CI             37317 non-null int64\n",
      "LANDUSE_Transport    37317 non-null int64\n",
      "dtypes: float64(1), int64(8)\n",
      "memory usage: 3.8 MB\n"
     ]
    },
    {
     "data": {
      "text/plain": [
       "BinomBreak           0\n",
       "FrzIndex             0\n",
       "DIAMTR               0\n",
       "AGE15                0\n",
       "FrostAct             0\n",
       "Pop                  0\n",
       "Road                 0\n",
       "MATRL_CI             0\n",
       "LANDUSE_Transport    0\n",
       "dtype: int64"
      ]
     },
     "execution_count": 32,
     "metadata": {},
     "output_type": "execute_result"
    }
   ],
   "source": [
    "# create the dataset for building model (only select preditors with numerical values)\n",
    "df_test= test_ML.reindex(columns=[\"BinomBreak\",'FrzIndex','DIAMTR','AGE15','FrostAct','Pop','Road','MATRL_CI','LANDUSE_Transport'])\n",
    "df_test.info()\n",
    "\n",
    "df_test.isnull().sum()"
   ]
  },
  {
   "cell_type": "code",
   "execution_count": 31,
   "metadata": {
    "collapsed": true
   },
   "outputs": [],
   "source": [
    "# feature selection \n",
    "Important_feature=['FrzIndex','DIAMTR','AGE15','FrostAct','Pop','Road','MATRL_CI','LANDUSE_Transport']\n",
    "pre_var=[\"BinomBreak\"]\n"
   ]
  },
  {
   "cell_type": "code",
   "execution_count": 69,
   "metadata": {
    "collapsed": true
   },
   "outputs": [],
   "source": [
    "# Create a function for machine learning algorithmns  \n",
    "# return: precision\n",
    "def Classification_model_precision(model,Data,x,y):\n",
    "# here x is the variable which are used for prediction(test) and y is the prediction variable \n",
    "    train,test = train_test_split(test_ML,test_size=0.33,random_state=7)\n",
    "    train_x = Data.ix[train.index,x] # Data for training only with features\n",
    "    train_y = Data.ix[train.index,y] # Data for training only with predcition variable\n",
    "    test_x = Data.ix[test.index,x] # same as for training \n",
    "    test_y = Data.ix[test.index,y]\n",
    "    scaler=StandardScaler() # feature scaling \n",
    "    scaler.fit(train_x)\n",
    "    x_train=scaler.transform(train_x)\n",
    "    x_test=scaler.transform(test_x)\n",
    "\n",
    "    model.fit(x_train,train_y.values.ravel())\n",
    "    pred=model.predict(x_test)\n",
    "    #pred_prob=model.predict_proba(x_test)\n",
    "    #accuracy=accuracy_score(test_y,pred)\n",
    "    #CM=confusion_matrix(test_y,pred)\n",
    "    #roc_score=roc_score(test_y,pred)\n",
    "    #CR=classification_report(test_y,pred)\n",
    "    pr=precision_score(test_y,pred)\n",
    "    return pr"
   ]
  },
  {
   "cell_type": "code",
   "execution_count": 40,
   "metadata": {
    "collapsed": true
   },
   "outputs": [],
   "source": [
    "# make a list of machine learning models \n",
    "models=[\"RandomForestClassifier\",\"Gaussian Naive Bays\",\"KNN\",\"Logistic_Regression\",\"Support_Vector\"]\n",
    "Classification_models =[RandomForestClassifier(n_estimators=100),GB(),knn(n_neighbors=5),LogisticRegression(),SVC()]\n",
    "Pred_var=[\"BinomBreak\"]\n"
   ]
  },
  {
   "cell_type": "code",
   "execution_count": 109,
   "metadata": {},
   "outputs": [],
   "source": [
    "# Evaluate performance of original ML models \n",
    "Precision=[]\n",
    "for model in Classification_models:\n",
    "    pr=Classification_model_precision(model,df_test,Important_feature,pre_var)\n",
    "    Precision.append(pr)"
   ]
  },
  {
   "cell_type": "code",
   "execution_count": 110,
   "metadata": {},
   "outputs": [
    {
     "data": {
      "text/html": [
       "<div>\n",
       "<style>\n",
       "    .dataframe thead tr:only-child th {\n",
       "        text-align: right;\n",
       "    }\n",
       "\n",
       "    .dataframe thead th {\n",
       "        text-align: left;\n",
       "    }\n",
       "\n",
       "    .dataframe tbody tr th {\n",
       "        vertical-align: top;\n",
       "    }\n",
       "</style>\n",
       "<table border=\"1\" class=\"dataframe\">\n",
       "  <thead>\n",
       "    <tr style=\"text-align: right;\">\n",
       "      <th></th>\n",
       "      <th>Classification Model</th>\n",
       "      <th>Precision with important features</th>\n",
       "    </tr>\n",
       "  </thead>\n",
       "  <tbody>\n",
       "    <tr>\n",
       "      <th>0</th>\n",
       "      <td>RandomForestClassifier</td>\n",
       "      <td>0.066667</td>\n",
       "    </tr>\n",
       "    <tr>\n",
       "      <th>1</th>\n",
       "      <td>Gaussian Naive Bays</td>\n",
       "      <td>0.000000</td>\n",
       "    </tr>\n",
       "    <tr>\n",
       "      <th>2</th>\n",
       "      <td>KNN</td>\n",
       "      <td>0.000000</td>\n",
       "    </tr>\n",
       "    <tr>\n",
       "      <th>3</th>\n",
       "      <td>Logistic_Regression</td>\n",
       "      <td>0.000000</td>\n",
       "    </tr>\n",
       "    <tr>\n",
       "      <th>4</th>\n",
       "      <td>Support_Vector</td>\n",
       "      <td>0.000000</td>\n",
       "    </tr>\n",
       "  </tbody>\n",
       "</table>\n",
       "</div>"
      ],
      "text/plain": [
       "     Classification Model  Precision with important features\n",
       "0  RandomForestClassifier                           0.066667\n",
       "1     Gaussian Naive Bays                           0.000000\n",
       "2                     KNN                           0.000000\n",
       "3     Logistic_Regression                           0.000000\n",
       "4          Support_Vector                           0.000000"
      ]
     },
     "execution_count": 110,
     "metadata": {},
     "output_type": "execute_result"
    }
   ],
   "source": [
    "# Create a table for comparing the accuracy rate amoung multiple algorithmns\n",
    "Precision_with_important_features = pd.DataFrame(\n",
    "    { \"Classification Model\" :models,\n",
    "     \"Precision with important features\":Precision\n",
    "     \n",
    "    })\n",
    "    \n",
    "Precision_with_important_features.sort_values(by=\"Precision with important features\",ascending=False).reset_index(drop=True)"
   ]
  },
  {
   "cell_type": "code",
   "execution_count": 70,
   "metadata": {
    "collapsed": true
   },
   "outputs": [],
   "source": [
    "# Create a function for machine learning algorithmns  \n",
    "# return: accuracy\n",
    "def Classification_model_accuracy(model,Data,x,y):\n",
    "# here x is the variable which are used for prediction(test) and y is the prediction variable \n",
    "    \n",
    "    train,test = train_test_split(test_ML,test_size=0.33,random_state=7)\n",
    "    train_x = Data.ix[train.index,x] # Data for training only with features\n",
    "    train_y = Data.ix[train.index,y] # Data for training only with predcition variable\n",
    "    test_x = Data.ix[test.index,x] # same as for training \n",
    "    test_y = Data.ix[test.index,y]\n",
    "    scaler=StandardScaler() # feature scaling \n",
    "    scaler.fit(train_x)\n",
    "    x_train=scaler.transform(train_x)\n",
    "    x_test=scaler.transform(test_x)\n",
    "\n",
    "    model.fit(x_train,train_y.values.ravel())\n",
    "    pred=model.predict(x_test)\n",
    "    #pred_prob=model.predict_proba(x_test)\n",
    "    accuracy=accuracy_score(test_y,pred)\n",
    "    #CM=confusion_matrix(test_y,pred)\n",
    "    #roc_score=roc_score(test_y,pred)\n",
    "    #CR=classification_report(test_y,pred)\n",
    "    #pr=precision_score(test_y,pred)\n",
    "    return accuracy"
   ]
  },
  {
   "cell_type": "code",
   "execution_count": 74,
   "metadata": {},
   "outputs": [],
   "source": [
    "# Evaluate performance of original ML models \n",
    "Accuracy=[]\n",
    "for model in Classification_models:\n",
    "    accuracy=Classification_model(model,df_test,Important_feature,pre_var)\n",
    "    Accuracy.append(accuracy)"
   ]
  },
  {
   "cell_type": "code",
   "execution_count": 75,
   "metadata": {},
   "outputs": [
    {
     "data": {
      "text/html": [
       "<div>\n",
       "<style>\n",
       "    .dataframe thead tr:only-child th {\n",
       "        text-align: right;\n",
       "    }\n",
       "\n",
       "    .dataframe thead th {\n",
       "        text-align: left;\n",
       "    }\n",
       "\n",
       "    .dataframe tbody tr th {\n",
       "        vertical-align: top;\n",
       "    }\n",
       "</style>\n",
       "<table border=\"1\" class=\"dataframe\">\n",
       "  <thead>\n",
       "    <tr style=\"text-align: right;\">\n",
       "      <th></th>\n",
       "      <th>Accuracy with important features</th>\n",
       "      <th>Classification Model</th>\n",
       "    </tr>\n",
       "  </thead>\n",
       "  <tbody>\n",
       "    <tr>\n",
       "      <th>0</th>\n",
       "      <td>0.994478</td>\n",
       "      <td>KNN</td>\n",
       "    </tr>\n",
       "    <tr>\n",
       "      <th>1</th>\n",
       "      <td>0.994478</td>\n",
       "      <td>Logistic_Regression</td>\n",
       "    </tr>\n",
       "    <tr>\n",
       "      <th>2</th>\n",
       "      <td>0.994478</td>\n",
       "      <td>Support_Vector</td>\n",
       "    </tr>\n",
       "    <tr>\n",
       "      <th>3</th>\n",
       "      <td>0.993504</td>\n",
       "      <td>RandomForestClassifier</td>\n",
       "    </tr>\n",
       "    <tr>\n",
       "      <th>4</th>\n",
       "      <td>0.988145</td>\n",
       "      <td>Gaussian Naive Bays</td>\n",
       "    </tr>\n",
       "  </tbody>\n",
       "</table>\n",
       "</div>"
      ],
      "text/plain": [
       "   Accuracy with important features    Classification Model\n",
       "0                          0.994478                     KNN\n",
       "1                          0.994478     Logistic_Regression\n",
       "2                          0.994478          Support_Vector\n",
       "3                          0.993504  RandomForestClassifier\n",
       "4                          0.988145     Gaussian Naive Bays"
      ]
     },
     "execution_count": 75,
     "metadata": {},
     "output_type": "execute_result"
    }
   ],
   "source": [
    "Accuracy_with_important_features = pd.DataFrame(\n",
    "    { \"Classification Model\" :models,\n",
    "     \"Accuracy with important features\":Accuracy\n",
    "     \n",
    "    })\n",
    "    \n",
    "Accuracy_with_important_features.sort_values(by=\"Accuracy with important features\",ascending=False).reset_index(drop=True)"
   ]
  },
  {
   "cell_type": "code",
   "execution_count": 67,
   "metadata": {
    "collapsed": true
   },
   "outputs": [],
   "source": [
    "# Machine Learning with Parameters Tuning  \n",
    "from sklearn.model_selection import GridSearchCV\n",
    "def Classification_model_GridSearch(model,Data,x,y,params):\n",
    "    data_x = Data.ix[:,x]  \n",
    "    data_y = Data.ix[:,y] \n",
    "    data_y=data_y.values.ravel()\n",
    "    clf = GridSearchCV(model,params,scoring= 'precision',cv=5)\n",
    "    clf.fit(data_x,data_y)\n",
    "    print(\"best score is :\")\n",
    "    print(clf.best_score_)\n",
    "    print('')\n",
    "    print(\"best estimator is :\")\n",
    "    print(clf.best_estimator_)\n",
    "\n",
    "    return (clf.best_score_)\n",
    "    "
   ]
  },
  {
   "cell_type": "code",
   "execution_count": 68,
   "metadata": {
    "collapsed": true
   },
   "outputs": [],
   "source": [
    "models=[\"RandomForestClassifier\",\"Gaussian Naive Bays\",\"KNN\",\"Logistic_Regression\",\"Support_Vector\"]\n",
    "Model_Accuracy=[]\n"
   ]
  },
  {
   "cell_type": "code",
   "execution_count": 76,
   "metadata": {},
   "outputs": [
    {
     "name": "stdout",
     "output_type": "stream",
     "text": [
      "0.0769230769231\n"
     ]
    }
   ],
   "source": [
    "# Comparison between raw model and parameters tuning models\n",
    "# Random forest\n",
    "seed=7\n",
    "num_tree=30\n",
    "model = RandomForestClassifier()\n",
    "pr_rm_raw=Classification_model_precision(RandomForestClassifier(n_estimators=100, random_state=seed),df_test,Important_feature,pre_var)\n",
    "\n",
    "print(pr_rm_raw)"
   ]
  },
  {
   "cell_type": "code",
   "execution_count": 77,
   "metadata": {},
   "outputs": [
    {
     "name": "stdout",
     "output_type": "stream",
     "text": [
      "best score is :\n",
      "0.0277827528864\n",
      "\n",
      "best estimator is :\n",
      "RandomForestClassifier(bootstrap=True, class_weight=None, criterion='gini',\n",
      "            max_depth=25, max_features='auto', max_leaf_nodes=None,\n",
      "            min_impurity_split=1e-07, min_samples_leaf=1,\n",
      "            min_samples_split=2, min_weight_fraction_leaf=0.0,\n",
      "            n_estimators=90, n_jobs=1, oob_score=False, random_state=7,\n",
      "            verbose=0, warm_start=False)\n"
     ]
    }
   ],
   "source": [
    "model = RandomForestClassifier(random_state=seed)\n",
    "Model_Precision=[]\n",
    "param_grid = {'n_estimators':(70,80,90,100),'criterion':('gini','entropy'),'max_depth':[25,30]}\n",
    "Precision=Classification_model_GridSearch(model,df_test,Important_feature,pre_var,param_grid)\n",
    "Model_Precision.append(Precision)"
   ]
  },
  {
   "cell_type": "code",
   "execution_count": 92,
   "metadata": {},
   "outputs": [
    {
     "name": "stdout",
     "output_type": "stream",
     "text": [
      "0.0833333333333\n",
      "             precision    recall  f1-score   support\n",
      "\n",
      "          0       0.99      1.00      1.00     12247\n",
      "          1       0.08      0.01      0.03        68\n",
      "\n",
      "avg / total       0.99      0.99      0.99     12315\n",
      "\n"
     ]
    }
   ],
   "source": [
    "# After tunning the parameter in random forest, the precision rate increase from 0.07923 to 0.08333\n",
    "\n",
    "pr_rm_tu=Classification_model_precision(RandomForestClassifier(bootstrap=True, class_weight=None, criterion='gini',\n",
    "            max_depth=25, max_features='auto', max_leaf_nodes=None,\n",
    "            min_impurity_split=1e-07, min_samples_leaf=1,\n",
    "            min_samples_split=2, min_weight_fraction_leaf=0.0,\n",
    "            n_estimators=90, n_jobs=1, oob_score=False, random_state=7,\n",
    "            verbose=0, warm_start=False),df_test,Important_feature,pre_var)\n",
    "cr_rm_tu=Classification_model_Report(RandomForestClassifier(bootstrap=True, class_weight=None, criterion='gini',\n",
    "            max_depth=25, max_features='auto', max_leaf_nodes=None,\n",
    "            min_impurity_split=1e-07, min_samples_leaf=1,\n",
    "            min_samples_split=2, min_weight_fraction_leaf=0.0,\n",
    "            n_estimators=90, n_jobs=1, oob_score=False, random_state=7,\n",
    "            verbose=0, warm_start=False),df_test,Important_feature,pre_var)\n",
    "print(pr_rm_tu)\n",
    "print(cr_rm_tu)"
   ]
  },
  {
   "cell_type": "code",
   "execution_count": 84,
   "metadata": {},
   "outputs": [
    {
     "name": "stdout",
     "output_type": "stream",
     "text": [
      "0.5\n",
      "[[12246     1]\n",
      " [   67     1]]\n",
      "             precision    recall  f1-score   support\n",
      "\n",
      "          0       0.99      1.00      1.00     12247\n",
      "          1       0.50      0.01      0.03        68\n",
      "\n",
      "avg / total       0.99      0.99      0.99     12315\n",
      "\n"
     ]
    }
   ],
   "source": [
    "# Boosting\n",
    "# Gradiant Boosting Decision Tree\n",
    "import pandas\n",
    "from sklearn import model_selection\n",
    "from sklearn.ensemble import GradientBoostingClassifier\n",
    "seed=7\n",
    "num_tree=30\n",
    "kfold=model_selection.KFold(n_splits=10, random_state=seed)\n",
    "model_Boosing=GradientBoostingClassifier(n_estimators=num_tree,random_state=seed)\n",
    "pr_bd=Classification_model_precision(model_Boosing,df_test,Important_feature,pre_var)\n",
    "cm_bd=Classification_model_CM(model_Boosing,df_test,Important_feature,pre_var)\n",
    "cr_bd=Classification_model_Report(model_Boosing,df_test,Important_feature,pre_var)\n",
    "print(pr_bd)\n",
    "print(cm_bd)\n",
    "print(cr_bd)"
   ]
  },
  {
   "cell_type": "code",
   "execution_count": 83,
   "metadata": {
    "collapsed": true
   },
   "outputs": [],
   "source": [
    "# Create a function for machine learning algorithmns  \n",
    "# return: Cofusion Matrix\n",
    "def Classification_model_CM(model,Data,x,y):\n",
    "# here x is the variable which are used for prediction(test) and y is the prediction variable \n",
    "    \n",
    "    train,test = train_test_split(test_ML,test_size=0.33,random_state=7)\n",
    "    train_x = Data.ix[train.index,x] # Data for training only with features\n",
    "    train_y = Data.ix[train.index,y] # Data for training only with predcition variable\n",
    "    test_x = Data.ix[test.index,x] # same as for training \n",
    "    test_y = Data.ix[test.index,y]\n",
    "    scaler=StandardScaler() # feature scaling \n",
    "    scaler.fit(train_x)\n",
    "    x_train=scaler.transform(train_x)\n",
    "    x_test=scaler.transform(test_x)\n",
    "\n",
    "    model.fit(x_train,train_y.values.ravel())\n",
    "    pred=model.predict(x_test)\n",
    "    #pred_prob=model.predict_proba(x_test)\n",
    "    accuracy=accuracy_score(test_y,pred)\n",
    "    CM=confusion_matrix(test_y,pred)\n",
    "    #roc_score=roc_score(test_y,pred)\n",
    "    #CR=classification_report(test_y,pred)\n",
    "    #pr=precision_score(test_y,pred)\n",
    "    return CM\n",
    "\n",
    "def Classification_model_Report(model,Data,x,y):\n",
    "# here x is the variable which are used for prediction(test) and y is the prediction variable \n",
    "    \n",
    "    train,test = train_test_split(test_ML,test_size=0.33,random_state=7)\n",
    "    train_x = Data.ix[train.index,x] # Data for training only with features\n",
    "    train_y = Data.ix[train.index,y] # Data for training only with predcition variable\n",
    "    test_x = Data.ix[test.index,x] # same as for training \n",
    "    test_y = Data.ix[test.index,y]\n",
    "    scaler=StandardScaler() # feature scaling \n",
    "    scaler.fit(train_x)\n",
    "    x_train=scaler.transform(train_x)\n",
    "    x_test=scaler.transform(test_x)\n",
    "\n",
    "    model.fit(x_train,train_y.values.ravel())\n",
    "    pred=model.predict(x_test)\n",
    "    #pred_prob=model.predict_proba(x_test)\n",
    "    #accuracy=accuracy_score(test_y,pred)\n",
    "    #CM=confusion_matrix(test_y,pred)\n",
    "    #roc_score=roc_score(test_y,pred)\n",
    "    CR=classification_report(test_y,pred)\n",
    "    #pr=precision_score(test_y,pred)\n",
    "    return CR"
   ]
  },
  {
   "cell_type": "code",
   "execution_count": 88,
   "metadata": {},
   "outputs": [
    {
     "name": "stdout",
     "output_type": "stream",
     "text": [
      "             precision    recall  f1-score   support\n",
      "\n",
      "          0       0.99      1.00      1.00     12247\n",
      "          1       0.08      0.03      0.04        68\n",
      "\n",
      "avg / total       0.99      0.99      0.99     12315\n",
      "\n"
     ]
    }
   ],
   "source": [
    "# AdaBoosting with Decsion Tree\n",
    "from sklearn.ensemble import AdaBoostClassifier\n",
    "from sklearn.tree import DecisionTreeClassifier\n",
    "dt = DecisionTreeClassifier() \n",
    "cr_ada= Classification_model_Report(AdaBoostClassifier(n_estimators=100, base_estimator=dt,learning_rate=1),df_test,Important_feature,pre_var)\n",
    "print(cr_ada)"
   ]
  },
  {
   "cell_type": "code",
   "execution_count": 90,
   "metadata": {},
   "outputs": [
    {
     "name": "stdout",
     "output_type": "stream",
     "text": [
      "best score is :\n",
      "0.0\n",
      "\n",
      "best estimator is :\n",
      "GaussianNB(priors=None)\n"
     ]
    }
   ],
   "source": [
    "# GB\n",
    "model = GB()\n",
    "param_grid={}\n",
    "Accuracy=Classification_model_GridSearch(model,df_test,Important_feature,pre_var,param_grid)\n",
    "Model_Accuracy.append(Accuracy)"
   ]
  },
  {
   "cell_type": "code",
   "execution_count": 93,
   "metadata": {},
   "outputs": [
    {
     "name": "stdout",
     "output_type": "stream",
     "text": [
      "best score is :\n",
      "0.0363961220681\n",
      "\n",
      "best estimator is :\n",
      "KNeighborsClassifier(algorithm='auto', leaf_size=30, metric='minkowski',\n",
      "           metric_params=None, n_jobs=1, n_neighbors=5, p=1,\n",
      "           weights='distance')\n"
     ]
    }
   ],
   "source": [
    "#KNN\n",
    "model=knn()\n",
    "model_precision_knn=[]\n",
    "param_grid={'n_neighbors':[5,15],'weights':('uniform','distance'),'p':[1,5]}\n",
    "PR_KNN=Classification_model_GridSearch(model,df_test,Important_feature,pre_var,param_grid)\n",
    "model_precision_knn.append(PR_KNN)"
   ]
  },
  {
   "cell_type": "code",
   "execution_count": 114,
   "metadata": {},
   "outputs": [
    {
     "name": "stdout",
     "output_type": "stream",
     "text": [
      "             precision    recall  f1-score   support\n",
      "\n",
      "          0       0.99      1.00      1.00     12247\n",
      "          1       0.05      0.01      0.02        68\n",
      "\n",
      "avg / total       0.99      0.99      0.99     12315\n",
      "\n",
      "0.05\n"
     ]
    }
   ],
   "source": [
    "#KNN with parameter tuning-->fail\n",
    "cm_knn_tu=Classification_model_Report(knn(algorithm='auto', leaf_size=30, metric='minkowski',\n",
    "           metric_params=None, n_jobs=1, n_neighbors=5, p=1,\n",
    "           weights='distance'),df_test,Important_feature,pre_var)\n",
    "pr_knn_tu=Classification_model_precision(knn(algorithm='auto', leaf_size=30, metric='minkowski',\n",
    "           metric_params=None, n_jobs=1, n_neighbors=5, p=1,\n",
    "           weights='distance'),df_test,Important_feature,pre_var)\n",
    "print(cm_knn_tu)\n",
    "print(pr_knn_tu)\n",
    "\n",
    "\n"
   ]
  },
  {
   "cell_type": "code",
   "execution_count": 128,
   "metadata": {},
   "outputs": [],
   "source": [
    "# Model Comparision\n",
    "# Create new dataframe for new model\n",
    "new_model=[\"Random Forest with Tuning\",\n",
    "           \"Gradient Boosting Decsion Tree\",\n",
    "           \"AdaBoosting\",\n",
    "           \"KNN with Tuning\"\n",
    "          ]\n",
    "new_number=[0.08333,0.5,0.08,0.05]"
   ]
  },
  {
   "cell_type": "code",
   "execution_count": 136,
   "metadata": {},
   "outputs": [
    {
     "data": {
      "text/html": [
       "<div>\n",
       "<style>\n",
       "    .dataframe thead tr:only-child th {\n",
       "        text-align: right;\n",
       "    }\n",
       "\n",
       "    .dataframe thead th {\n",
       "        text-align: left;\n",
       "    }\n",
       "\n",
       "    .dataframe tbody tr th {\n",
       "        vertical-align: top;\n",
       "    }\n",
       "</style>\n",
       "<table border=\"1\" class=\"dataframe\">\n",
       "  <thead>\n",
       "    <tr style=\"text-align: right;\">\n",
       "      <th></th>\n",
       "      <th>Classification Model</th>\n",
       "      <th>Precision with important features</th>\n",
       "    </tr>\n",
       "  </thead>\n",
       "  <tbody>\n",
       "    <tr>\n",
       "      <th>0</th>\n",
       "      <td>Random Forest with Tuning</td>\n",
       "      <td>0.08333</td>\n",
       "    </tr>\n",
       "    <tr>\n",
       "      <th>1</th>\n",
       "      <td>Gradient Boosting Decsion Tree</td>\n",
       "      <td>0.50000</td>\n",
       "    </tr>\n",
       "    <tr>\n",
       "      <th>2</th>\n",
       "      <td>AdaBoosting</td>\n",
       "      <td>0.08000</td>\n",
       "    </tr>\n",
       "    <tr>\n",
       "      <th>3</th>\n",
       "      <td>KNN with Tuning</td>\n",
       "      <td>0.05000</td>\n",
       "    </tr>\n",
       "  </tbody>\n",
       "</table>\n",
       "</div>"
      ],
      "text/plain": [
       "             Classification Model  Precision with important features\n",
       "0       Random Forest with Tuning                            0.08333\n",
       "1  Gradient Boosting Decsion Tree                            0.50000\n",
       "2                     AdaBoosting                            0.08000\n",
       "3                 KNN with Tuning                            0.05000"
      ]
     },
     "execution_count": 136,
     "metadata": {},
     "output_type": "execute_result"
    }
   ],
   "source": [
    "new.head(4)"
   ]
  },
  {
   "cell_type": "code",
   "execution_count": 141,
   "metadata": {},
   "outputs": [],
   "source": [
    "old=Precision_with_important_features.drop(Precision_with_important_features.index[[5,6,7,8]])"
   ]
  },
  {
   "cell_type": "code",
   "execution_count": 142,
   "metadata": {
    "collapsed": true
   },
   "outputs": [],
   "source": [
    "# Combine old and new datasets\n",
    "Final=old.append(new)"
   ]
  },
  {
   "cell_type": "code",
   "execution_count": 143,
   "metadata": {},
   "outputs": [
    {
     "data": {
      "text/html": [
       "<div>\n",
       "<style>\n",
       "    .dataframe thead tr:only-child th {\n",
       "        text-align: right;\n",
       "    }\n",
       "\n",
       "    .dataframe thead th {\n",
       "        text-align: left;\n",
       "    }\n",
       "\n",
       "    .dataframe tbody tr th {\n",
       "        vertical-align: top;\n",
       "    }\n",
       "</style>\n",
       "<table border=\"1\" class=\"dataframe\">\n",
       "  <thead>\n",
       "    <tr style=\"text-align: right;\">\n",
       "      <th></th>\n",
       "      <th>Classification Model</th>\n",
       "      <th>Precision with important features</th>\n",
       "    </tr>\n",
       "  </thead>\n",
       "  <tbody>\n",
       "    <tr>\n",
       "      <th>0</th>\n",
       "      <td>RandomForestClassifier</td>\n",
       "      <td>0.066667</td>\n",
       "    </tr>\n",
       "    <tr>\n",
       "      <th>1</th>\n",
       "      <td>Gaussian Naive Bays</td>\n",
       "      <td>0.000000</td>\n",
       "    </tr>\n",
       "    <tr>\n",
       "      <th>2</th>\n",
       "      <td>KNN</td>\n",
       "      <td>0.000000</td>\n",
       "    </tr>\n",
       "    <tr>\n",
       "      <th>3</th>\n",
       "      <td>Logistic_Regression</td>\n",
       "      <td>0.000000</td>\n",
       "    </tr>\n",
       "    <tr>\n",
       "      <th>4</th>\n",
       "      <td>Support_Vector</td>\n",
       "      <td>0.000000</td>\n",
       "    </tr>\n",
       "    <tr>\n",
       "      <th>0</th>\n",
       "      <td>Random Forest with Tuning</td>\n",
       "      <td>0.083330</td>\n",
       "    </tr>\n",
       "    <tr>\n",
       "      <th>1</th>\n",
       "      <td>Gradient Boosting Decsion Tree</td>\n",
       "      <td>0.500000</td>\n",
       "    </tr>\n",
       "  </tbody>\n",
       "</table>\n",
       "</div>"
      ],
      "text/plain": [
       "             Classification Model  Precision with important features\n",
       "0          RandomForestClassifier                           0.066667\n",
       "1             Gaussian Naive Bays                           0.000000\n",
       "2                             KNN                           0.000000\n",
       "3             Logistic_Regression                           0.000000\n",
       "4                  Support_Vector                           0.000000\n",
       "0       Random Forest with Tuning                           0.083330\n",
       "1  Gradient Boosting Decsion Tree                           0.500000"
      ]
     },
     "execution_count": 143,
     "metadata": {},
     "output_type": "execute_result"
    }
   ],
   "source": [
    "Final.head(7)"
   ]
  },
  {
   "cell_type": "code",
   "execution_count": 144,
   "metadata": {},
   "outputs": [
    {
     "data": {
      "text/html": [
       "<div>\n",
       "<style>\n",
       "    .dataframe thead tr:only-child th {\n",
       "        text-align: right;\n",
       "    }\n",
       "\n",
       "    .dataframe thead th {\n",
       "        text-align: left;\n",
       "    }\n",
       "\n",
       "    .dataframe tbody tr th {\n",
       "        vertical-align: top;\n",
       "    }\n",
       "</style>\n",
       "<table border=\"1\" class=\"dataframe\">\n",
       "  <thead>\n",
       "    <tr style=\"text-align: right;\">\n",
       "      <th></th>\n",
       "      <th>Classification Model</th>\n",
       "      <th>Precision with important features</th>\n",
       "    </tr>\n",
       "  </thead>\n",
       "  <tbody>\n",
       "    <tr>\n",
       "      <th>1</th>\n",
       "      <td>Gradient Boosting Decsion Tree</td>\n",
       "      <td>0.500000</td>\n",
       "    </tr>\n",
       "    <tr>\n",
       "      <th>0</th>\n",
       "      <td>Random Forest with Tuning</td>\n",
       "      <td>0.083330</td>\n",
       "    </tr>\n",
       "    <tr>\n",
       "      <th>2</th>\n",
       "      <td>AdaBoosting</td>\n",
       "      <td>0.080000</td>\n",
       "    </tr>\n",
       "    <tr>\n",
       "      <th>0</th>\n",
       "      <td>RandomForestClassifier</td>\n",
       "      <td>0.066667</td>\n",
       "    </tr>\n",
       "    <tr>\n",
       "      <th>3</th>\n",
       "      <td>KNN with Tuning</td>\n",
       "      <td>0.050000</td>\n",
       "    </tr>\n",
       "    <tr>\n",
       "      <th>1</th>\n",
       "      <td>Gaussian Naive Bays</td>\n",
       "      <td>0.000000</td>\n",
       "    </tr>\n",
       "    <tr>\n",
       "      <th>2</th>\n",
       "      <td>KNN</td>\n",
       "      <td>0.000000</td>\n",
       "    </tr>\n",
       "    <tr>\n",
       "      <th>3</th>\n",
       "      <td>Logistic_Regression</td>\n",
       "      <td>0.000000</td>\n",
       "    </tr>\n",
       "    <tr>\n",
       "      <th>4</th>\n",
       "      <td>Support_Vector</td>\n",
       "      <td>0.000000</td>\n",
       "    </tr>\n",
       "  </tbody>\n",
       "</table>\n",
       "</div>"
      ],
      "text/plain": [
       "             Classification Model  Precision with important features\n",
       "1  Gradient Boosting Decsion Tree                           0.500000\n",
       "0       Random Forest with Tuning                           0.083330\n",
       "2                     AdaBoosting                           0.080000\n",
       "0          RandomForestClassifier                           0.066667\n",
       "3                 KNN with Tuning                           0.050000\n",
       "1             Gaussian Naive Bays                           0.000000\n",
       "2                             KNN                           0.000000\n",
       "3             Logistic_Regression                           0.000000\n",
       "4                  Support_Vector                           0.000000"
      ]
     },
     "execution_count": 144,
     "metadata": {},
     "output_type": "execute_result"
    }
   ],
   "source": [
    "Final.sort_values(by=\"Precision with important features\",ascending=False)"
   ]
  }
 ],
 "metadata": {
  "kernelspec": {
   "display_name": "Python 2",
   "language": "python",
   "name": "python2"
  },
  "language_info": {
   "codemirror_mode": {
    "name": "ipython",
    "version": 2
   },
   "file_extension": ".py",
   "mimetype": "text/x-python",
   "name": "python",
   "nbconvert_exporter": "python",
   "pygments_lexer": "ipython2",
   "version": "2.7.13"
  }
 },
 "nbformat": 4,
 "nbformat_minor": 2
}
