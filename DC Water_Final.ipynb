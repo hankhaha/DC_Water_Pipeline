{
 "cells": [
  {
   "cell_type": "code",
   "execution_count": 2,
   "metadata": {
    "collapsed": true
   },
   "outputs": [],
   "source": [
    "# Import Pandas and Numpy libraries \n",
    "import pandas as pd\n",
    "import numpy as np\n",
    "# Data Vidualization\n",
    "import matplotlib as mpl\n",
    "import matplotlib.pyplot as plt\n",
    "import seaborn as sns\n",
    "%matplotlib inline\n",
    "\n",
    "\n",
    "# Training and Test Data \n",
    "from sklearn.model_selection import train_test_split\n",
    "# Cross-Validation\n",
    "from sklearn.cross_validation import KFold\n",
    "# Machine Learning models\n",
    "from sklearn.linear_model import LogisticRegression\n",
    "from sklearn.ensemble import RandomForestClassifier\n",
    "from sklearn.neighbors import KNeighborsClassifier as knn\n",
    "from sklearn.naive_bayes import GaussianNB as GB\n",
    "from sklearn.svm import SVC\n",
    "from sklearn.neural_network import MLPClassifier\n",
    "# Evaluation matrics\n",
    "from sklearn.metrics import precision_score, \\\n",
    "    recall_score, confusion_matrix, classification_report, \\\n",
    "    accuracy_score, f1_score\n",
    "\n",
    "# Preprocessing the Data\n",
    "from sklearn.preprocessing import StandardScaler\n",
    "\n",
    "# Handling Imbalanced Data\n",
    "# https://www.kaggle.com/zurfer/setting-the-baseline-auc-0-70"
   ]
  },
  {
   "cell_type": "code",
   "execution_count": 3,
   "metadata": {},
   "outputs": [
    {
     "data": {
      "text/html": [
       "<div>\n",
       "<style>\n",
       "    .dataframe thead tr:only-child th {\n",
       "        text-align: right;\n",
       "    }\n",
       "\n",
       "    .dataframe thead th {\n",
       "        text-align: left;\n",
       "    }\n",
       "\n",
       "    .dataframe tbody tr th {\n",
       "        vertical-align: top;\n",
       "    }\n",
       "</style>\n",
       "<table border=\"1\" class=\"dataframe\">\n",
       "  <thead>\n",
       "    <tr style=\"text-align: right;\">\n",
       "      <th></th>\n",
       "      <th>BinomBreak</th>\n",
       "      <th>FrzIndex</th>\n",
       "      <th>DIAMTR</th>\n",
       "      <th>AGE15</th>\n",
       "      <th>FrostAct</th>\n",
       "      <th>Pop</th>\n",
       "      <th>Road</th>\n",
       "      <th>MATRL_CI</th>\n",
       "      <th>LANDUSE_Transport</th>\n",
       "    </tr>\n",
       "  </thead>\n",
       "  <tbody>\n",
       "    <tr>\n",
       "      <th>0</th>\n",
       "      <td>1</td>\n",
       "      <td>73</td>\n",
       "      <td>16.0</td>\n",
       "      <td>63</td>\n",
       "      <td>1</td>\n",
       "      <td>1073</td>\n",
       "      <td>0</td>\n",
       "      <td>1</td>\n",
       "      <td>1</td>\n",
       "    </tr>\n",
       "    <tr>\n",
       "      <th>1</th>\n",
       "      <td>1</td>\n",
       "      <td>73</td>\n",
       "      <td>16.0</td>\n",
       "      <td>89</td>\n",
       "      <td>2</td>\n",
       "      <td>111</td>\n",
       "      <td>3</td>\n",
       "      <td>1</td>\n",
       "      <td>1</td>\n",
       "    </tr>\n",
       "    <tr>\n",
       "      <th>2</th>\n",
       "      <td>1</td>\n",
       "      <td>73</td>\n",
       "      <td>30.0</td>\n",
       "      <td>75</td>\n",
       "      <td>3</td>\n",
       "      <td>918</td>\n",
       "      <td>3</td>\n",
       "      <td>0</td>\n",
       "      <td>1</td>\n",
       "    </tr>\n",
       "    <tr>\n",
       "      <th>3</th>\n",
       "      <td>1</td>\n",
       "      <td>91</td>\n",
       "      <td>16.0</td>\n",
       "      <td>89</td>\n",
       "      <td>2</td>\n",
       "      <td>34</td>\n",
       "      <td>3</td>\n",
       "      <td>1</td>\n",
       "      <td>1</td>\n",
       "    </tr>\n",
       "    <tr>\n",
       "      <th>4</th>\n",
       "      <td>1</td>\n",
       "      <td>91</td>\n",
       "      <td>36.0</td>\n",
       "      <td>100</td>\n",
       "      <td>1</td>\n",
       "      <td>2052</td>\n",
       "      <td>3</td>\n",
       "      <td>1</td>\n",
       "      <td>1</td>\n",
       "    </tr>\n",
       "    <tr>\n",
       "      <th>5</th>\n",
       "      <td>1</td>\n",
       "      <td>91</td>\n",
       "      <td>36.0</td>\n",
       "      <td>73</td>\n",
       "      <td>3</td>\n",
       "      <td>62</td>\n",
       "      <td>3</td>\n",
       "      <td>0</td>\n",
       "      <td>1</td>\n",
       "    </tr>\n",
       "  </tbody>\n",
       "</table>\n",
       "</div>"
      ],
      "text/plain": [
       "   BinomBreak  FrzIndex  DIAMTR  AGE15  FrostAct   Pop  Road  MATRL_CI  \\\n",
       "0           1        73    16.0     63         1  1073     0         1   \n",
       "1           1        73    16.0     89         2   111     3         1   \n",
       "2           1        73    30.0     75         3   918     3         0   \n",
       "3           1        91    16.0     89         2    34     3         1   \n",
       "4           1        91    36.0    100         1  2052     3         1   \n",
       "5           1        91    36.0     73         3    62     3         0   \n",
       "\n",
       "   LANDUSE_Transport  \n",
       "0                  1  \n",
       "1                  1  \n",
       "2                  1  \n",
       "3                  1  \n",
       "4                  1  \n",
       "5                  1  "
      ]
     },
     "execution_count": 3,
     "metadata": {},
     "output_type": "execute_result"
    }
   ],
   "source": [
    "# Loading Data\n",
    "df= pd.read_csv(\"C:/Users/chunweil/undersample_DCwater.csv\")\n",
    "# Select the features for analyzing (including target)\n",
    "Important_feature=['BinomBreak','FrzIndex','DIAMTR','AGE15','FrostAct','Pop','Road','MATRL_CI','LANDUSE_Transport']\n",
    "# Create the dataset for modeling \n",
    "dc_water=df.loc[:,Important_feature]\n",
    "dc_water.head(6)"
   ]
  },
  {
   "cell_type": "code",
   "execution_count": 4,
   "metadata": {},
   "outputs": [
    {
     "name": "stdout",
     "output_type": "stream",
     "text": [
      "        BinomBreak     FrzIndex       DIAMTR        AGE15     FrostAct  \\\n",
      "count  1212.000000  1212.000000  1212.000000  1212.000000  1212.000000   \n",
      "mean      0.500000    67.317657    25.694307    73.160066     1.279703   \n",
      "std       0.500206    13.559019    10.900874    33.331790     1.240715   \n",
      "min       0.000000    30.000000    16.000000     0.000000     0.000000   \n",
      "25%       0.000000    58.000000    16.000000    59.000000     0.000000   \n",
      "50%       0.500000    69.000000    20.000000    71.000000     2.000000   \n",
      "75%       1.000000    77.000000    30.000000    90.000000     2.000000   \n",
      "max       1.000000    91.000000    78.000000   155.000000     3.000000   \n",
      "\n",
      "               Pop         Road     MATRL_CI  LANDUSE_Transport  \n",
      "count  1212.000000  1212.000000  1212.000000        1212.000000  \n",
      "mean    286.811881     1.425743     0.680693           0.896040  \n",
      "std     439.356811     1.481601     0.466401           0.305335  \n",
      "min       0.000000     0.000000     0.000000           0.000000  \n",
      "25%       0.000000     0.000000     0.000000           1.000000  \n",
      "50%     100.000000     0.000000     1.000000           1.000000  \n",
      "75%     353.000000     3.000000     1.000000           1.000000  \n",
      "max    3630.000000     3.000000     1.000000           1.000000  \n"
     ]
    }
   ],
   "source": [
    "# Check the statistic of original dataset\n",
    "test_ML=dc_water\n",
    "print(test_ML.describe())\n"
   ]
  },
  {
   "cell_type": "code",
   "execution_count": 5,
   "metadata": {},
   "outputs": [
    {
     "name": "stdout",
     "output_type": "stream",
     "text": [
      "1\n"
     ]
    },
    {
     "data": {
      "text/plain": [
       "count    606.000000\n",
       "mean      78.051155\n",
       "std       29.652517\n",
       "min        0.000000\n",
       "25%       66.000000\n",
       "50%       73.000000\n",
       "75%       91.000000\n",
       "max      155.000000\n",
       "Name: AGE15, dtype: float64"
      ]
     },
     "execution_count": 5,
     "metadata": {},
     "output_type": "execute_result"
    },
    {
     "data": {
      "image/png": "[encoded data removed]",
      "text/plain": [
       "<matplotlib.figure.Figure at 0xb0679d0>"
      ]
     },
     "metadata": {},
     "output_type": "display_data"
    }
   ],
   "source": [
    "# Count the number of instances in \"Non-Break\" and \" Break\" class respectively\n",
    "from collections import Counter\n",
    "non_break=Counter(test_ML[\"BinomBreak\"])[0]\n",
    "break1=Counter(test_ML[\"BinomBreak\"])[1]\n",
    "print (non_break/break1)\n",
    "\n",
    "# Countplot\n",
    "sns.countplot(test_ML[\"BinomBreak\"])\n",
    "\n",
    "# Check the average of AGE15 by \"BinomBreak\"\n",
    "test_ML.AGE15[dc_water.BinomBreak==1].describe()"
   ]
  },
  {
   "cell_type": "code",
   "execution_count": 9,
   "metadata": {
    "collapsed": true
   },
   "outputs": [],
   "source": [
    "# Specify the predictors and target\n",
    "predictors_feature=['FrzIndex','DIAMTR','AGE15','FrostAct','Pop','Road','MATRL_CI','LANDUSE_Transport']\n",
    "target_feature=[\"BinomBreak\"]\n",
    "\n",
    "\n"
   ]
  },
  {
   "cell_type": "code",
   "execution_count": 15,
   "metadata": {
    "collapsed": true
   },
   "outputs": [],
   "source": [
    "# Create a function for machine learning algorithmns  \n",
    "# return: precision recall\n",
    "def Classification_model_precision(model,Data,x,y):\n",
    "# here x is the variable which are used for prediction(test) and y is the prediction variable \n",
    "# test_size and random_state can be changed \n",
    "    train,test = train_test_split(df_test,test_size=0.33,random_state=7)\n",
    "    train_x = Data.ix[train.index,x] # Data for training only with features\n",
    "    train_y = Data.ix[train.index,y] # Data for training only with predcition variable\n",
    "    test_x = Data.ix[test.index,x] # same as for training \n",
    "    test_y = Data.ix[test.index,y]\n",
    "    scaler=StandardScaler() # feature scaling \n",
    "    scaler.fit(train_x)\n",
    "    x_train=scaler.transform(train_x)\n",
    "    x_test=scaler.transform(test_x)\n",
    "\n",
    "    model.fit(x_train,train_y.values.ravel())\n",
    "    pred=model.predict(x_test)\n",
    "    #pred_prob=model.predict_proba(x_test)\n",
    "    #accuracy=accuracy_score(test_y,pred)\n",
    "    #CM=confusion_matrix(test_y,pred)\n",
    "    #roc_score=roc_score(test_y,pred)\n",
    "    #CR=classification_report(test_y,pred)\n",
    "    pr=precision_score(test_y,pred)\n",
    "    rl=recall_score(test_y,pred)\n",
    "    return pr,rl"
   ]
  },
  {
   "cell_type": "code",
   "execution_count": 16,
   "metadata": {
    "collapsed": true
   },
   "outputs": [],
   "source": [
    "# Create a function for machine learning algorithmns  \n",
    "# return: accuracy\n",
    "def Classification_model_accuracy(model,Data,x,y):\n",
    "# here x is the variable which are used for prediction(test) and y is the prediction variable \n",
    "    \n",
    "    train,test = train_test_split(test_ML,test_size=0.33,random_state=7)\n",
    "    train_x = Data.ix[train.index,x] # Data for training only with features\n",
    "    train_y = Data.ix[train.index,y] # Data for training only with predcition variable\n",
    "    test_x = Data.ix[test.index,x] # same as for training \n",
    "    test_y = Data.ix[test.index,y]\n",
    "    scaler=StandardScaler() # feature scaling \n",
    "    scaler.fit(train_x)\n",
    "    x_train=scaler.transform(train_x)\n",
    "    x_test=scaler.transform(test_x)\n",
    "\n",
    "    model.fit(x_train,train_y.values.ravel())\n",
    "    pred=model.predict(x_test)\n",
    "    \n",
    "    #pred_prob=model.predict_proba(x_test)\n",
    "    accuracy=accuracy_score(test_y,pred)\n",
    "    #CM=confusion_matrix(test_y,pred)\n",
    "    #roc_score=roc_score(test_y,pred)\n",
    "    #CR=classification_report(test_y,pred)\n",
    "    #pr=precision_score(test_y,pred)\n",
    "    return accuracy"
   ]
  },
  {
   "cell_type": "code",
   "execution_count": 18,
   "metadata": {
    "collapsed": true
   },
   "outputs": [],
   "source": [
    "# Create a function for machine learning algorithmns  \n",
    "# return: Cofusion Matrix\n",
    "def Classification_model_CM(model,Data,x,y):\n",
    "# here x is the variable which are used for prediction(test) and y is the prediction variable \n",
    "    \n",
    "    train,test = train_test_split(test_ML,test_size=0.33,random_state=7)\n",
    "    train_x = Data.ix[train.index,x] # Data for training only with features\n",
    "    train_y = Data.ix[train.index,y] # Data for training only with predcition variable\n",
    "    test_x = Data.ix[test.index,x] # same as for training \n",
    "    test_y = Data.ix[test.index,y]\n",
    "    scaler=StandardScaler() # feature scaling \n",
    "    scaler.fit(train_x)\n",
    "    x_train=scaler.transform(train_x)\n",
    "    x_test=scaler.transform(test_x)\n",
    "\n",
    "    model.fit(x_train,train_y.values.ravel())\n",
    "    pred=model.predict(x_test)\n",
    "    #pred_prob=model.predict_proba(x_test)\n",
    "    accuracy=accuracy_score(test_y,pred)\n",
    "    CM=confusion_matrix(test_y,pred)\n",
    "    #roc_score=roc_score(test_y,pred)\n",
    "    #CR=classification_report(test_y,pred)\n",
    "    #pr=precision_score(test_y,pred)\n",
    "    return CM\n",
    "\n",
    "def Classification_model_Report(model,Data,x,y):\n",
    "# here x is the variable which are used for prediction(test) and y is the prediction variable \n",
    "    \n",
    "    train,test = train_test_split(test_ML,test_size=0.33,random_state=7)\n",
    "    train_x = Data.ix[train.index,x] # Data for training only with features\n",
    "    train_y = Data.ix[train.index,y] # Data for training only with predcition variable\n",
    "    test_x = Data.ix[test.index,x] # same as for training \n",
    "    test_y = Data.ix[test.index,y]\n",
    "    scaler=StandardScaler() # feature scaling \n",
    "    scaler.fit(train_x)\n",
    "    x_train=scaler.transform(train_x)\n",
    "    x_test=scaler.transform(test_x)\n",
    "\n",
    "    model.fit(x_train,train_y.values.ravel())\n",
    "    pred=model.predict(x_test)\n",
    "    #pred_prob=model.predict_proba(x_test)\n",
    "    #accuracy=accuracy_score(test_y,pred)\n",
    "    #CM=confusion_matrix(test_y,pred)\n",
    "    #roc_score=roc_score(test_y,pred)\n",
    "    CR=classification_report(test_y,pred)\n",
    "    #pr=precision_score(test_y,pred)\n",
    "    return CR"
   ]
  },
  {
   "cell_type": "code",
   "execution_count": 11,
   "metadata": {
    "collapsed": true
   },
   "outputs": [],
   "source": [
    "# Basic Machine learning Models \n",
    "models=[\"RandomForestClassifier\",\"Gaussian Naive Bays\",\"KNN\",\"Logistic_Regression\",\"Support_Vector\"]\n",
    "# The arguement in the models can be modified, such as 100 n_estimators or number of n_neighbors\n",
    "Classification_models =[RandomForestClassifier(n_estimators=100),GB(),knn(n_neighbors=5),LogisticRegression(),SVC()]\n",
    "Pred_var=[\"BinomBreak\"]\n"
   ]
  },
  {
   "cell_type": "code",
   "execution_count": 25,
   "metadata": {
    "collapsed": true
   },
   "outputs": [],
   "source": [
    "# Evaluate performance of original ML models \n",
    "Precision=[]\n",
    "Recall=[]\n",
    "seed=np.random.seed(1)\n",
    "for model in Classification_models:\n",
    "    pr=Classification_model_precision(model,df_test,predictors_feature,target_feature)[0]\n",
    "    rl=Classification_model_precision(model,df_test,predictors_feature,target_feature)[1]\n",
    "    Precision.append(pr)\n",
    "    Recall.append(rl)"
   ]
  },
  {
   "cell_type": "code",
   "execution_count": 73,
   "metadata": {},
   "outputs": [
    {
     "data": {
      "text/html": [
       "<div>\n",
       "<style>\n",
       "    .dataframe thead tr:only-child th {\n",
       "        text-align: right;\n",
       "    }\n",
       "\n",
       "    .dataframe thead th {\n",
       "        text-align: left;\n",
       "    }\n",
       "\n",
       "    .dataframe tbody tr th {\n",
       "        vertical-align: top;\n",
       "    }\n",
       "</style>\n",
       "<table border=\"1\" class=\"dataframe\">\n",
       "  <thead>\n",
       "    <tr style=\"text-align: right;\">\n",
       "      <th></th>\n",
       "      <th>Classification Model</th>\n",
       "      <th>Precision with important features</th>\n",
       "      <th>Recall with important features</th>\n",
       "    </tr>\n",
       "  </thead>\n",
       "  <tbody>\n",
       "    <tr>\n",
       "      <th>0</th>\n",
       "      <td>Gaussian Naive Bays</td>\n",
       "      <td>0.621287</td>\n",
       "      <td>0.753846</td>\n",
       "    </tr>\n",
       "    <tr>\n",
       "      <th>1</th>\n",
       "      <td>RandomForestClassifier</td>\n",
       "      <td>0.621287</td>\n",
       "      <td>0.733333</td>\n",
       "    </tr>\n",
       "    <tr>\n",
       "      <th>2</th>\n",
       "      <td>KNN</td>\n",
       "      <td>0.621287</td>\n",
       "      <td>0.692308</td>\n",
       "    </tr>\n",
       "    <tr>\n",
       "      <th>3</th>\n",
       "      <td>Logistic_Regression</td>\n",
       "      <td>0.621287</td>\n",
       "      <td>0.625641</td>\n",
       "    </tr>\n",
       "    <tr>\n",
       "      <th>4</th>\n",
       "      <td>Support_Vector</td>\n",
       "      <td>0.621287</td>\n",
       "      <td>0.610256</td>\n",
       "    </tr>\n",
       "  </tbody>\n",
       "</table>\n",
       "</div>"
      ],
      "text/plain": [
       "     Classification Model  Precision with important features  \\\n",
       "0     Gaussian Naive Bays                           0.621287   \n",
       "1  RandomForestClassifier                           0.621287   \n",
       "2                     KNN                           0.621287   \n",
       "3     Logistic_Regression                           0.621287   \n",
       "4          Support_Vector                           0.621287   \n",
       "\n",
       "   Recall with important features  \n",
       "0                        0.753846  \n",
       "1                        0.733333  \n",
       "2                        0.692308  \n",
       "3                        0.625641  \n",
       "4                        0.610256  "
      ]
     },
     "execution_count": 73,
     "metadata": {},
     "output_type": "execute_result"
    }
   ],
   "source": [
    "# Table for comparison with multiple algorithmns\n",
    "Precision_with_important_features = pd.DataFrame(\n",
    "    { \"Classification Model\" :models,\n",
    "     \"Precision with important features\":Precision,\n",
    "     \"Recall with important features\":Recall\n",
    "    })\n",
    "    \n",
    "Precision_with_important_features.sort_values(by=\"Recall with important features\",ascending=False).reset_index(drop=True)"
   ]
  },
  {
   "cell_type": "code",
   "execution_count": 38,
   "metadata": {
    "collapsed": true
   },
   "outputs": [],
   "source": [
    "# Advanced Machine Learning Models\n",
    "# Create a function for Parameters Tuning  \n",
    "from sklearn.model_selection import GridSearchCV\n",
    "def Classification_model_GridSearch(model,Data,x,y,params):\n",
    "    data_x = Data.ix[:,x]  \n",
    "    data_y = Data.ix[:,y] \n",
    "    data_y=data_y.values.ravel()\n",
    "    clf = GridSearchCV(model,params,scoring= 'accuracy',cv=5)\n",
    "    clf.fit(data_x,data_y)\n",
    "    print(\"best score is :\")\n",
    "    print(clf.best_score_)\n",
    "    print('')\n",
    "    print(\"best estimator is :\")\n",
    "    print(clf.best_estimator_)\n",
    "\n",
    "    return (clf.best_score_)"
   ]
  },
  {
   "cell_type": "code",
   "execution_count": null,
   "metadata": {
    "collapsed": true
   },
   "outputs": [],
   "source": [
    "# New Machine Learning model\n",
    "models=[\"RandomForestClassifier\",\"Gaussian Naive Bays\",\"KNN\",\"Logistic_Regression\",\"Support_Vector\"]"
   ]
  },
  {
   "cell_type": "code",
   "execution_count": 39,
   "metadata": {},
   "outputs": [
    {
     "name": "stdout",
     "output_type": "stream",
     "text": [
      "best score is :\n",
      "0.621287128713\n",
      "\n",
      "best estimator is :\n",
      "RandomForestClassifier(bootstrap=True, class_weight=None, criterion='gini',\n",
      "            max_depth=25, max_features='auto', max_leaf_nodes=None,\n",
      "            min_impurity_split=1e-07, min_samples_leaf=1,\n",
      "            min_samples_split=2, min_weight_fraction_leaf=0.0,\n",
      "            n_estimators=90, n_jobs=1, oob_score=False, random_state=None,\n",
      "            verbose=0, warm_start=False)\n"
     ]
    }
   ],
   "source": [
    "# 1. Radome Forest with parameter tuning \n",
    "# The parameters can be modified and optimized\n",
    "# n_estimators: the number of tree in the forest\n",
    "# criterion: the function to measure the quality of a split\n",
    "# max_features: the number of features to consider when looking for the best split \n",
    "# max_depth: the maximum depth of the tree\n",
    "seed=np.random.seed(1)\n",
    "model = RandomForestClassifier(random_state=seed)\n",
    "Model_Precision=[]\n",
    "param_grid = {'n_estimators':(70,80,90,100),'criterion':('gini','entropy'),'max_depth':[25,30]}\n",
    "Precision=Classification_model_GridSearch(model,df_test,predictors_feature,target_feature,param_grid)\n",
    "Model_Precision.append(Precision)"
   ]
  },
  {
   "cell_type": "code",
   "execution_count": 40,
   "metadata": {},
   "outputs": [
    {
     "name": "stdout",
     "output_type": "stream",
     "text": [
      "(0.69377990430622005, 0.74358974358974361)\n"
     ]
    }
   ],
   "source": [
    "# After tunning the parameter in random forest, the precision rate increases \n",
    "# Copy and paste the parameter after tuning \n",
    "seed=np.random.seed(1)\n",
    "pr_rm_pt=Classification_model_precision(RandomForestClassifier(bootstrap=True, class_weight=None, criterion='gini',\n",
    "            max_depth=25, max_features='auto', max_leaf_nodes=None,\n",
    "            min_impurity_split=1e-07, min_samples_leaf=1,\n",
    "            min_samples_split=2, min_weight_fraction_leaf=0.0,\n",
    "            n_estimators=90, n_jobs=1, oob_score=False, random_state=None,\n",
    "            verbose=0, warm_start=False),df_test,predictors_feature,target_feature)\n",
    "print (pr_rm_pt)\n"
   ]
  },
  {
   "cell_type": "code",
   "execution_count": 51,
   "metadata": {},
   "outputs": [
    {
     "name": "stdout",
     "output_type": "stream",
     "text": [
      "(0.65437788018433185, 0.72820512820512817)\n"
     ]
    }
   ],
   "source": [
    "# Boosting\n",
    "# Gradiant Boosting Decision Tree\n",
    "import pandas\n",
    "from sklearn import model_selection\n",
    "from sklearn.ensemble import GradientBoostingClassifier\n",
    "seed=np.random.seed(1)\n",
    "model_Boosing=GradientBoostingClassifier(n_estimators=num_tree,random_state=seed)\n",
    "pr_bd=Classification_model_precision(model_Boosing,df_test,predictors_feature,target_feature)\n",
    "print(pr_bd)\n",
    "\n"
   ]
  },
  {
   "cell_type": "code",
   "execution_count": 74,
   "metadata": {},
   "outputs": [
    {
     "name": "stdout",
     "output_type": "stream",
     "text": [
      "(0.69633507853403143, 0.68205128205128207)\n"
     ]
    }
   ],
   "source": [
    "# AdaBoosting with Decsion Tree\n",
    "from sklearn.ensemble import AdaBoostClassifier\n",
    "seed=np.random.seed(1)\n",
    "cr_ada= Classification_model_precision(AdaBoostClassifier(n_estimators=100,learning_rate=1),df_test,predictors_feature,target_feature)\n",
    "print(cr_ada)"
   ]
  },
  {
   "cell_type": "code",
   "execution_count": 54,
   "metadata": {},
   "outputs": [
    {
     "name": "stdout",
     "output_type": "stream",
     "text": [
      "best score is :\n",
      "0.631188118812\n",
      "\n",
      "best estimator is :\n",
      "KNeighborsClassifier(algorithm='auto', leaf_size=30, metric='minkowski',\n",
      "           metric_params=None, n_jobs=1, n_neighbors=5, p=1,\n",
      "           weights='distance')\n",
      "0.631188118812\n"
     ]
    }
   ],
   "source": [
    "#KNN\n",
    "# parameters includes n_neighbors(number of neighbors to use)\n",
    "# weights(weight function used in prediction\n",
    "# p= power parameter for the Minkowski metic\n",
    "seed=np.random.seed(1)\n",
    "param_grid={'n_neighbors':[5,15],'weights':('uniform','distance'),'p':[1,5]}\n",
    "PR_KNN=Classification_model_GridSearch(knn(),df_test,predictors_feature,target_feature,param_grid)\n",
    "print (PR_KNN)"
   ]
  },
  {
   "cell_type": "code",
   "execution_count": 64,
   "metadata": {},
   "outputs": [
    {
     "name": "stdout",
     "output_type": "stream",
     "text": [
      "(0.65086206896551724, 0.77435897435897438)\n"
     ]
    }
   ],
   "source": [
    "#KNN with parameter tuning\n",
    "seed=np.random.seed(1)\n",
    "pr_knn_tu=Classification_model_precision(knn(algorithm='auto', leaf_size=30, metric='minkowski',\n",
    "           metric_params=None, n_jobs=1, n_neighbors=5, p=1,\n",
    "           weights='distance'),df_test,predictors_feature,target_feature)\n",
    "\n",
    "print (pr_knn_tu)\n",
    "\n"
   ]
  },
  {
   "cell_type": "code",
   "execution_count": 65,
   "metadata": {
    "collapsed": true
   },
   "outputs": [],
   "source": [
    "# Finalize the advanced machine learning models\n",
    "seed=np.random.seed(1)\n",
    "new_model=[\"Random Forest with Tuning\",\n",
    "           \"Gradient Boosting Decsion Tree\",\n",
    "           \"AdaBoosting\",\n",
    "           \"KNN with Tuning\"\n",
    "          ]\n",
    "Classification_models =[RandomForestClassifier(bootstrap=True, class_weight=None, criterion='gini',\n",
    "            max_depth=25, max_features='auto', max_leaf_nodes=None,\n",
    "            min_impurity_split=1e-07, min_samples_leaf=1,\n",
    "            min_samples_split=2, min_weight_fraction_leaf=0.0,\n",
    "            n_estimators=90, n_jobs=1, oob_score=False, random_state=None,\n",
    "            verbose=0, warm_start=False),\n",
    "                        GradientBoostingClassifier(n_estimators=num_tree,random_state=seed),\n",
    "                        AdaBoostClassifier(n_estimators=100, base_estimator=dt,learning_rate=1),\n",
    "                        knn(algorithm='auto', leaf_size=30, metric='minkowski',\n",
    "           metric_params=None, n_jobs=1, n_neighbors=15, p=1,\n",
    "           weights='distance')]"
   ]
  },
  {
   "cell_type": "code",
   "execution_count": 66,
   "metadata": {
    "collapsed": true
   },
   "outputs": [],
   "source": [
    "# Evaluate performance of New ML models \n",
    "Precision_new=[]\n",
    "Recall_new=[]\n",
    "for model in Classification_models:\n",
    "    pr=Classification_model_precision(model,df_test,predictors_feature,target_feature)[0]\n",
    "    rl=Classification_model_precision(model,df_test,predictors_feature,target_feature)[1]\n",
    "    Precision_new.append(pr)\n",
    "    Recall_new.append(rl)"
   ]
  },
  {
   "cell_type": "code",
   "execution_count": 67,
   "metadata": {
    "collapsed": true
   },
   "outputs": [],
   "source": [
    "# Create a dataframe for new ML model\n",
    "Precision_with_new_model = pd.DataFrame(\n",
    "    { \"Classification Model\" :new_model,\n",
    "     \"Precision with important features\":Precision_new,\n",
    "     \"Recall with important features\":Recall_new\n",
    "    })\n",
    "    "
   ]
  },
  {
   "cell_type": "code",
   "execution_count": 68,
   "metadata": {},
   "outputs": [
    {
     "data": {
      "text/html": [
       "<div>\n",
       "<style>\n",
       "    .dataframe thead tr:only-child th {\n",
       "        text-align: right;\n",
       "    }\n",
       "\n",
       "    .dataframe thead th {\n",
       "        text-align: left;\n",
       "    }\n",
       "\n",
       "    .dataframe tbody tr th {\n",
       "        vertical-align: top;\n",
       "    }\n",
       "</style>\n",
       "<table border=\"1\" class=\"dataframe\">\n",
       "  <thead>\n",
       "    <tr style=\"text-align: right;\">\n",
       "      <th></th>\n",
       "      <th>Classification Model</th>\n",
       "      <th>Precision with important features</th>\n",
       "      <th>Recall with important features</th>\n",
       "    </tr>\n",
       "  </thead>\n",
       "  <tbody>\n",
       "    <tr>\n",
       "      <th>0</th>\n",
       "      <td>Random Forest with Tuning</td>\n",
       "      <td>0.693780</td>\n",
       "      <td>0.728205</td>\n",
       "    </tr>\n",
       "    <tr>\n",
       "      <th>1</th>\n",
       "      <td>Gradient Boosting Decsion Tree</td>\n",
       "      <td>0.654378</td>\n",
       "      <td>0.728205</td>\n",
       "    </tr>\n",
       "    <tr>\n",
       "      <th>2</th>\n",
       "      <td>AdaBoosting</td>\n",
       "      <td>0.682692</td>\n",
       "      <td>0.712821</td>\n",
       "    </tr>\n",
       "    <tr>\n",
       "      <th>3</th>\n",
       "      <td>KNN with Tuning</td>\n",
       "      <td>0.651452</td>\n",
       "      <td>0.805128</td>\n",
       "    </tr>\n",
       "  </tbody>\n",
       "</table>\n",
       "</div>"
      ],
      "text/plain": [
       "             Classification Model  Precision with important features  \\\n",
       "0       Random Forest with Tuning                           0.693780   \n",
       "1  Gradient Boosting Decsion Tree                           0.654378   \n",
       "2                     AdaBoosting                           0.682692   \n",
       "3                 KNN with Tuning                           0.651452   \n",
       "\n",
       "   Recall with important features  \n",
       "0                        0.728205  \n",
       "1                        0.728205  \n",
       "2                        0.712821  \n",
       "3                        0.805128  "
      ]
     },
     "execution_count": 68,
     "metadata": {},
     "output_type": "execute_result"
    }
   ],
   "source": [
    "# check the precision and recall\n",
    "Precision_with_new_model"
   ]
  },
  {
   "cell_type": "code",
   "execution_count": 70,
   "metadata": {},
   "outputs": [
    {
     "data": {
      "text/html": [
       "<div>\n",
       "<style>\n",
       "    .dataframe thead tr:only-child th {\n",
       "        text-align: right;\n",
       "    }\n",
       "\n",
       "    .dataframe thead th {\n",
       "        text-align: left;\n",
       "    }\n",
       "\n",
       "    .dataframe tbody tr th {\n",
       "        vertical-align: top;\n",
       "    }\n",
       "</style>\n",
       "<table border=\"1\" class=\"dataframe\">\n",
       "  <thead>\n",
       "    <tr style=\"text-align: right;\">\n",
       "      <th></th>\n",
       "      <th>Classification Model</th>\n",
       "      <th>Precision with important features</th>\n",
       "      <th>Recall with important features</th>\n",
       "    </tr>\n",
       "  </thead>\n",
       "  <tbody>\n",
       "    <tr>\n",
       "      <th>0</th>\n",
       "      <td>KNN with Tuning</td>\n",
       "      <td>0.651452</td>\n",
       "      <td>0.805128</td>\n",
       "    </tr>\n",
       "    <tr>\n",
       "      <th>1</th>\n",
       "      <td>Gaussian Naive Bays</td>\n",
       "      <td>0.588000</td>\n",
       "      <td>0.753846</td>\n",
       "    </tr>\n",
       "    <tr>\n",
       "      <th>2</th>\n",
       "      <td>RandomForestClassifier</td>\n",
       "      <td>0.690476</td>\n",
       "      <td>0.733333</td>\n",
       "    </tr>\n",
       "    <tr>\n",
       "      <th>3</th>\n",
       "      <td>Random Forest with Tuning</td>\n",
       "      <td>0.693780</td>\n",
       "      <td>0.728205</td>\n",
       "    </tr>\n",
       "    <tr>\n",
       "      <th>4</th>\n",
       "      <td>Gradient Boosting Decsion Tree</td>\n",
       "      <td>0.654378</td>\n",
       "      <td>0.728205</td>\n",
       "    </tr>\n",
       "    <tr>\n",
       "      <th>5</th>\n",
       "      <td>AdaBoosting</td>\n",
       "      <td>0.682692</td>\n",
       "      <td>0.712821</td>\n",
       "    </tr>\n",
       "    <tr>\n",
       "      <th>6</th>\n",
       "      <td>KNN</td>\n",
       "      <td>0.592105</td>\n",
       "      <td>0.692308</td>\n",
       "    </tr>\n",
       "    <tr>\n",
       "      <th>7</th>\n",
       "      <td>Logistic_Regression</td>\n",
       "      <td>0.632124</td>\n",
       "      <td>0.625641</td>\n",
       "    </tr>\n",
       "    <tr>\n",
       "      <th>8</th>\n",
       "      <td>Support_Vector</td>\n",
       "      <td>0.650273</td>\n",
       "      <td>0.610256</td>\n",
       "    </tr>\n",
       "  </tbody>\n",
       "</table>\n",
       "</div>"
      ],
      "text/plain": [
       "             Classification Model  Precision with important features  \\\n",
       "0                 KNN with Tuning                           0.651452   \n",
       "1             Gaussian Naive Bays                           0.588000   \n",
       "2          RandomForestClassifier                           0.690476   \n",
       "3       Random Forest with Tuning                           0.693780   \n",
       "4  Gradient Boosting Decsion Tree                           0.654378   \n",
       "5                     AdaBoosting                           0.682692   \n",
       "6                             KNN                           0.592105   \n",
       "7             Logistic_Regression                           0.632124   \n",
       "8                  Support_Vector                           0.650273   \n",
       "\n",
       "   Recall with important features  \n",
       "0                        0.805128  \n",
       "1                        0.753846  \n",
       "2                        0.733333  \n",
       "3                        0.728205  \n",
       "4                        0.728205  \n",
       "5                        0.712821  \n",
       "6                        0.692308  \n",
       "7                        0.625641  \n",
       "8                        0.610256  "
      ]
     },
     "execution_count": 70,
     "metadata": {},
     "output_type": "execute_result"
    }
   ],
   "source": [
    "# Integrate new models into previous table\n",
    "Final_results=pd.concat([Precision_with_important_features,Precision_with_new_model],axis=0)\n",
    "Final_results.sort_values(by=\"Recall with important features\",ascending=False).reset_index(drop=True)"
   ]
  },
  {
   "cell_type": "code",
   "execution_count": null,
   "metadata": {
    "collapsed": true
   },
   "outputs": [],
   "source": []
  }
 ],
 "metadata": {
  "kernelspec": {
   "display_name": "Python 2",
   "language": "python",
   "name": "python2"
  },
  "language_info": {
   "codemirror_mode": {
    "name": "ipython",
    "version": 2
   },
   "file_extension": ".py",
   "mimetype": "text/x-python",
   "name": "python",
   "nbconvert_exporter": "python",
   "pygments_lexer": "ipython2",
   "version": "2.7.13"
  }
 },
 "nbformat": 4,
 "nbformat_minor": 2
}
